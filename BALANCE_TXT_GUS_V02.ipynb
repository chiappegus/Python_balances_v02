{
  "cells": [
    {
      "cell_type": "markdown",
      "metadata": {
        "id": "rYQgT2wknzB6"
      },
      "source": [
        "## Importando datos"
      ]
    },
    {
      "cell_type": "code",
      "execution_count": 41,
      "metadata": {},
      "outputs": [],
      "source": [
        "import pandas as pd\n",
        "import numpy as np\n",
        "from datetime import date\n"
      ]
    },
    {
      "cell_type": "code",
      "execution_count": 42,
      "metadata": {},
      "outputs": [],
      "source": [
        "df1 = pd.read_csv('balances.txt', sep=',')"
      ]
    },
    {
      "cell_type": "code",
      "execution_count": 43,
      "metadata": {},
      "outputs": [],
      "source": [
        "# df1['sum'] = df1[[\"M2.1\",\"M2.2\"]].sum(axis=1)\n",
        "# print(df1['sum'] )\n",
        "#df1.replace(,12)\n",
        "\n",
        "df1=df1.fillna(np.nan)\n",
        "\n",
        "#df1=df1.replace(\"\",np.nan)\n",
        "# df1=df1.fillna(0)\n",
        "\n",
        "# df1['S1'] = df1[[\"S1-III\",\"S1-IV\",\"S1-V\",\"S1-VII\"]].sum(axis=1,numeric_only=True)\n",
        "# df1['S2'] = df1[[\"TS(S2)III\",\"TS(S2)IV\",\"TS(S2)V\",\"TS(S2)VI\"]].sum(axis=1,numeric_only=True)\n",
        "\n",
        "df1['S1'] = df1[[\"S1-III\",\"S1-IV\",\"S1-V\",\"S1-VII\"]].sum(axis=1, min_count=1)\n",
        "df1['S2'] = df1[[\"TS(S2)III\",\"TS(S2)IV\",\"TS(S2)V\",\"TS(S2)VI\"]].sum(axis=1, min_count=1)\n",
        "\n",
        "\n",
        "\n",
        "# df1[\"S1\"]=+df1[\"S1-III\"]+df1[\"S1-IV\"]+df1[\"S1-V\"]+df1[\"S1-VII\"]\n",
        "# df1[\"S2\"]=+df1[\"TS(S2)III\"]+df1[\"TS(S2)IV\"]+df1[\"TS(S2)V\"]+df1[\"TS(S2)VI\"]\n",
        "\n",
        "df1=df1.drop(columns={\"S1-III\",\"S1-IV\",\"S1-V\",\"S1-VII\",\"TS(S2)III\",\"TS(S2)IV\",\"TS(S2)V\",\"TS(S2)VI\",\"CoordX\",\"CoordY\"})\n",
        "# df1.head()\n"
      ]
    },
    {
      "cell_type": "code",
      "execution_count": 44,
      "metadata": {},
      "outputs": [],
      "source": [
        "df1[\"M1\"]=df1[\"M1.2\"]\n",
        "df1[\"M2\"]=df1[\"M2.2\"]\n",
        "\n",
        "# Reemplazar valores en \"M1\" si \"M1.2\" es NaN con el valor de \"M1.1\"\n",
        "df1.loc[pd.isna(df1[\"M1.2\"]), \"M1\"] = df1[\"M1.1\"]\n",
        "\n",
        "# Reemplazar valores en \"M1\" si \"M1.2\" es NaN con el valor de \"M1.1\"\n",
        "df1.loc[pd.isna(df1[\"M2.2\"]), \"M2\"] = df1[\"M2.1\"]\n",
        "# df1[\"M2\"][(df1[\"M2\"]== 0) & (df1[\"M2.1\"]>0)]=df1[\"M2.1\"]\n",
        "# df1[\"M2\"][(df1[\"M2\"]==np.nan) & (df1[\"M2.1\"]!=np.nan)]=df1[\"M2.1\"]\n",
        "# df2 = df1[[\"M1\",\"M1.2\",\"M1.1\",\"M2\",\"M2.2\",\"M2.1\"]].copy()\n",
        "\n",
        "nueva_fila = []\n",
        "\n",
        "for i in range(len(df1.columns)):\n",
        "    if i == 0:  # Si es la primera columna\n",
        "        #nueva_fila.append(np.nan)\n",
        "        nueva_fila.append(\"NA\")\n",
        "        \n",
        "    else:  # Las columnas restantes\n",
        "        nueva_fila.append(-2000)\n",
        "        \n",
        "df1.loc[len(df1)]=nueva_fila\n",
        "\n",
        "df1=df1.drop(columns={\"M1.1\",\"M1.2\",\"M2.1\",\"M2.2\"})\n",
        "# df1\n",
        "\n",
        "# df2.head()"
      ]
    },
    {
      "cell_type": "code",
      "execution_count": 45,
      "metadata": {},
      "outputs": [],
      "source": [
        "# df1.head()"
      ]
    },
    {
      "cell_type": "code",
      "execution_count": 46,
      "metadata": {},
      "outputs": [],
      "source": [
        "# Renaming columns\n",
        "df1.rename(columns={'G1.1': 'G1', 'G1.2': 'G2','A1.1':'A1','A1.2':'A2','TS(TC)':'TC'}, inplace=True)\n",
        "# print(df1.head())"
      ]
    },
    {
      "cell_type": "code",
      "execution_count": 47,
      "metadata": {},
      "outputs": [],
      "source": [
        "#otro\n",
        "# Reemplazar valores en \"M1\" si \"M1.2\" es NaN con el valor de \"M1.1\"\n",
        "df1.loc[pd.isna(df1[\"P\"]), \"P\"] = df1[\"CN\"]\n",
        "#df1[\"P\"][df1[\"P\"]==0]=df1[\"CN\"]\n",
        "df1=df1.drop(columns={\"CN\"})\n",
        "# print(df1.head())"
      ]
    },
    {
      "cell_type": "code",
      "execution_count": 48,
      "metadata": {},
      "outputs": [],
      "source": [
        "df1.loc[pd.isna(df1[\"TL\"]), \"TL\"] = df1[\"TS(TL)\"]\n",
        "df1=df1.drop(columns={\"TS(TL)\"})\n",
        "# print(df1.head())"
      ]
    },
    {
      "cell_type": "code",
      "execution_count": 49,
      "metadata": {},
      "outputs": [],
      "source": [
        "# df1=df1.fillna(-1000)\n",
        "#df1=df1.replace(0,-1000)\n",
        "df1=df1.fillna(-1000)\n",
        "# print(df1.head())"
      ]
    },
    {
      "cell_type": "code",
      "execution_count": 50,
      "metadata": {},
      "outputs": [],
      "source": [
        "todays_date = date.today()\n",
        "# print(\"Today's date =\", todays_date)\n",
        "df1.to_excel(f\"balances_GUS_{todays_date}.xlsx\",index=False)"
      ]
    },
    {
      "cell_type": "markdown",
      "metadata": {},
      "source": [
        "##CARGA DE SHP  ##"
      ]
    },
    {
      "cell_type": "markdown",
      "metadata": {},
      "source": [
        "### probando con shp de "
      ]
    },
    {
      "cell_type": "markdown",
      "metadata": {},
      "source": [
        "###instalar el geoPandas"
      ]
    },
    {
      "cell_type": "code",
      "execution_count": 51,
      "metadata": {},
      "outputs": [],
      "source": [
        "#%pip install geopandas\n",
        "#%pip install geodatasets"
      ]
    },
    {
      "cell_type": "code",
      "execution_count": 52,
      "metadata": {},
      "outputs": [],
      "source": [
        "import geopandas as gpd\n",
        "from geodatasets import get_path\n",
        "import os\n",
        "import zipfile"
      ]
    },
    {
      "cell_type": "code",
      "execution_count": 53,
      "metadata": {},
      "outputs": [],
      "source": [
        "# path_to_data = get_path(\"nybb\")\n",
        "# gdf = geopandas.read_file(path_to_data)\n",
        "\n",
        "# gdf"
      ]
    },
    {
      "cell_type": "code",
      "execution_count": 54,
      "metadata": {},
      "outputs": [],
      "source": [
        "#path_to_data\n",
        "#'C:\\\\Users\\\\gchiappe\\\\AppData\\\\Local\\\\geodatasets\\\\geodatasets\\\\Cache\\\\nybb_16a.zip.unzip\\\\nybb_16a\\\\nybb.shp'"
      ]
    },
    {
      "cell_type": "markdown",
      "metadata": {},
      "source": [
        "## preparacion de Carpetas "
      ]
    },
    {
      "cell_type": "code",
      "execution_count": 55,
      "metadata": {},
      "outputs": [
        {
          "name": "stdout",
          "output_type": "stream",
          "text": [
            "La carpeta output ha sido eliminada\n"
          ]
        }
      ],
      "source": [
        "\n",
        "import shutil\n",
        "\n",
        "data_folder = 'reservas'\n",
        "output_folder = 'output'\n",
        "\n",
        "if not os.path.exists(data_folder):\n",
        "    os.mkdir(data_folder)\n",
        "    \n",
        "    \n",
        "# Eliminar la carpeta\n",
        "if os.path.exists(output_folder):\n",
        "    shutil.rmtree(output_folder)\n",
        "    print(f\"La carpeta {output_folder} ha sido eliminada\")\n",
        "else:\n",
        "    print(\"La carpeta no existe\")\n",
        "    \n",
        "    \n",
        "    \n",
        "if not os.path.exists(output_folder):\n",
        "    os.mkdir(output_folder)"
      ]
    },
    {
      "cell_type": "code",
      "execution_count": 56,
      "metadata": {},
      "outputs": [],
      "source": [
        "# data_folder = 'reservas'\n",
        "# output_folder = 'output'\n",
        "\n",
        "# if not os.path.exists(data_folder):\n",
        "#     os.mkdir(data_folder)\n",
        "# if not os.path.exists(output_folder):\n",
        "#     os.mkdir(output_folder)"
      ]
    },
    {
      "cell_type": "markdown",
      "metadata": {},
      "source": [
        "### RESERVAS"
      ]
    },
    {
      "cell_type": "code",
      "execution_count": 57,
      "metadata": {},
      "outputs": [],
      "source": [
        "reservasshp = os.path.join(data_folder, 'zona_total_mapas_merge13-geo.shp') \n",
        "reservasgpd = gpd.read_file(reservasshp)"
      ]
    },
    {
      "cell_type": "code",
      "execution_count": 58,
      "metadata": {},
      "outputs": [
        {
          "data": {
            "text/html": [
              "<div>\n",
              "<style scoped>\n",
              "    .dataframe tbody tr th:only-of-type {\n",
              "        vertical-align: middle;\n",
              "    }\n",
              "\n",
              "    .dataframe tbody tr th {\n",
              "        vertical-align: top;\n",
              "    }\n",
              "\n",
              "    .dataframe thead th {\n",
              "        text-align: right;\n",
              "    }\n",
              "</style>\n",
              "<table border=\"1\" class=\"dataframe\">\n",
              "  <thead>\n",
              "    <tr style=\"text-align: right;\">\n",
              "      <th></th>\n",
              "      <th>Combinacio</th>\n",
              "      <th>FID_1</th>\n",
              "      <th>Ctrde</th>\n",
              "      <th>Suelo</th>\n",
              "      <th>Lat</th>\n",
              "      <th>Long</th>\n",
              "      <th>X</th>\n",
              "      <th>Y</th>\n",
              "      <th>geometry</th>\n",
              "    </tr>\n",
              "  </thead>\n",
              "  <tbody>\n",
              "    <tr>\n",
              "      <th>0</th>\n",
              "      <td>01alBRAeste_1</td>\n",
              "      <td>0.0</td>\n",
              "      <td>01alBRA_1</td>\n",
              "      <td>BRAGADO</td>\n",
              "      <td>-34.993</td>\n",
              "      <td>-61.109</td>\n",
              "      <td>5398764.398</td>\n",
              "      <td>6127596.045</td>\n",
              "      <td>MULTIPOLYGON (((-61.07312 -34.98516, -61.07208...</td>\n",
              "    </tr>\n",
              "  </tbody>\n",
              "</table>\n",
              "</div>"
            ],
            "text/plain": [
              "      Combinacio  FID_1      Ctrde    Suelo     Lat    Long            X  \\\n",
              "0  01alBRAeste_1    0.0  01alBRA_1  BRAGADO -34.993 -61.109  5398764.398   \n",
              "\n",
              "             Y                                           geometry  \n",
              "0  6127596.045  MULTIPOLYGON (((-61.07312 -34.98516, -61.07208...  "
            ]
          },
          "execution_count": 58,
          "metadata": {},
          "output_type": "execute_result"
        }
      ],
      "source": [
        "reservasgpd.head(1)"
      ]
    },
    {
      "cell_type": "code",
      "execution_count": 59,
      "metadata": {},
      "outputs": [
        {
          "data": {
            "text/plain": [
              "(514, 9)"
            ]
          },
          "execution_count": 59,
          "metadata": {},
          "output_type": "execute_result"
        }
      ],
      "source": [
        "reservasgpd.shape"
      ]
    },
    {
      "cell_type": "code",
      "execution_count": 60,
      "metadata": {},
      "outputs": [
        {
          "data": {
            "text/plain": [
              "0    01alBRA_1\n",
              "1    01alBRA_2\n",
              "2    01alBRA_3\n",
              "3    01alBRA_4\n",
              "4    01alCPS_1\n",
              "Name: centroide, dtype: object"
            ]
          },
          "execution_count": 60,
          "metadata": {},
          "output_type": "execute_result"
        }
      ],
      "source": [
        "reservasgpd['centroide'] = reservasgpd['Ctrde']\n",
        "reservasgpd['centroide'].head()"
      ]
    },
    {
      "cell_type": "code",
      "execution_count": 61,
      "metadata": {},
      "outputs": [],
      "source": [
        "reservasoutgpd = reservasgpd.merge(df1, on='centroide')"
      ]
    },
    {
      "cell_type": "code",
      "execution_count": 62,
      "metadata": {},
      "outputs": [
        {
          "data": {
            "text/html": [
              "<div>\n",
              "<style scoped>\n",
              "    .dataframe tbody tr th:only-of-type {\n",
              "        vertical-align: middle;\n",
              "    }\n",
              "\n",
              "    .dataframe tbody tr th {\n",
              "        vertical-align: top;\n",
              "    }\n",
              "\n",
              "    .dataframe thead th {\n",
              "        text-align: right;\n",
              "    }\n",
              "</style>\n",
              "<table border=\"1\" class=\"dataframe\">\n",
              "  <thead>\n",
              "    <tr style=\"text-align: right;\">\n",
              "      <th></th>\n",
              "      <th>Combinacio</th>\n",
              "      <th>FID_1</th>\n",
              "      <th>Ctrde</th>\n",
              "      <th>Suelo</th>\n",
              "      <th>Lat</th>\n",
              "      <th>Long</th>\n",
              "      <th>X</th>\n",
              "      <th>Y</th>\n",
              "      <th>geometry</th>\n",
              "      <th>centroide</th>\n",
              "      <th>...</th>\n",
              "      <th>G1</th>\n",
              "      <th>G2</th>\n",
              "      <th>A1</th>\n",
              "      <th>A2</th>\n",
              "      <th>TL</th>\n",
              "      <th>P</th>\n",
              "      <th>S1</th>\n",
              "      <th>S2</th>\n",
              "      <th>M1</th>\n",
              "      <th>M2</th>\n",
              "    </tr>\n",
              "  </thead>\n",
              "  <tbody>\n",
              "    <tr>\n",
              "      <th>0</th>\n",
              "      <td>01alBRAeste_1</td>\n",
              "      <td>0.0</td>\n",
              "      <td>01alBRA_1</td>\n",
              "      <td>BRAGADO</td>\n",
              "      <td>-34.993</td>\n",
              "      <td>-61.109</td>\n",
              "      <td>5398764.398</td>\n",
              "      <td>6127596.045</td>\n",
              "      <td>MULTIPOLYGON (((-61.07312 -34.98516, -61.07208...</td>\n",
              "      <td>01alBRA_1</td>\n",
              "      <td>...</td>\n",
              "      <td>-1000.0</td>\n",
              "      <td>-1000.0</td>\n",
              "      <td>-1000.0</td>\n",
              "      <td>-1000.0</td>\n",
              "      <td>-1000.0</td>\n",
              "      <td>87.0</td>\n",
              "      <td>94.0</td>\n",
              "      <td>88.0</td>\n",
              "      <td>-1000.0</td>\n",
              "      <td>88.0</td>\n",
              "    </tr>\n",
              "  </tbody>\n",
              "</table>\n",
              "<p>1 rows × 21 columns</p>\n",
              "</div>"
            ],
            "text/plain": [
              "      Combinacio  FID_1      Ctrde    Suelo     Lat    Long            X  \\\n",
              "0  01alBRAeste_1    0.0  01alBRA_1  BRAGADO -34.993 -61.109  5398764.398   \n",
              "\n",
              "             Y                                           geometry  centroide  \\\n",
              "0  6127596.045  MULTIPOLYGON (((-61.07312 -34.98516, -61.07208...  01alBRA_1   \n",
              "\n",
              "   ...      G1      G2      A1      A2      TL     P    S1    S2      M1    M2  \n",
              "0  ... -1000.0 -1000.0 -1000.0 -1000.0 -1000.0  87.0  94.0  88.0 -1000.0  88.0  \n",
              "\n",
              "[1 rows x 21 columns]"
            ]
          },
          "execution_count": 62,
          "metadata": {},
          "output_type": "execute_result"
        }
      ],
      "source": [
        "reservasoutgpd.head(1)"
      ]
    },
    {
      "cell_type": "markdown",
      "metadata": {},
      "source": [
        "### CBA"
      ]
    },
    {
      "cell_type": "code",
      "execution_count": 63,
      "metadata": {},
      "outputs": [],
      "source": [
        "CBAnewINshp = os.path.join(data_folder, '50-CBAnew-IN.shp')  \n",
        "CBAnewINgpd = gpd.read_file(CBAnewINshp)"
      ]
    },
    {
      "cell_type": "code",
      "execution_count": 64,
      "metadata": {},
      "outputs": [
        {
          "data": {
            "text/html": [
              "<div>\n",
              "<style scoped>\n",
              "    .dataframe tbody tr th:only-of-type {\n",
              "        vertical-align: middle;\n",
              "    }\n",
              "\n",
              "    .dataframe tbody tr th {\n",
              "        vertical-align: top;\n",
              "    }\n",
              "\n",
              "    .dataframe thead th {\n",
              "        text-align: right;\n",
              "    }\n",
              "</style>\n",
              "<table border=\"1\" class=\"dataframe\">\n",
              "  <thead>\n",
              "    <tr style=\"text-align: right;\">\n",
              "      <th></th>\n",
              "      <th>OBJECTID</th>\n",
              "      <th>NOM_SB</th>\n",
              "      <th>nom_ctdre</th>\n",
              "      <th>Shape_Leng</th>\n",
              "      <th>Shape_Area</th>\n",
              "      <th>X</th>\n",
              "      <th>Y</th>\n",
              "      <th>geometry</th>\n",
              "    </tr>\n",
              "  </thead>\n",
              "  <tbody>\n",
              "    <tr>\n",
              "      <th>0</th>\n",
              "      <td>1</td>\n",
              "      <td>AARÓN CASTELLANOS</td>\n",
              "      <td>02-001-1</td>\n",
              "      <td>2.589841</td>\n",
              "      <td>0.005487</td>\n",
              "      <td>5274828.81</td>\n",
              "      <td>6268708.49</td>\n",
              "      <td>MULTIPOLYGON (((-62.46551 -33.80869, -62.46575...</td>\n",
              "    </tr>\n",
              "  </tbody>\n",
              "</table>\n",
              "</div>"
            ],
            "text/plain": [
              "   OBJECTID             NOM_SB nom_ctdre  Shape_Leng  Shape_Area           X  \\\n",
              "0         1  AARÓN CASTELLANOS  02-001-1    2.589841    0.005487  5274828.81   \n",
              "\n",
              "            Y                                           geometry  \n",
              "0  6268708.49  MULTIPOLYGON (((-62.46551 -33.80869, -62.46575...  "
            ]
          },
          "execution_count": 64,
          "metadata": {},
          "output_type": "execute_result"
        }
      ],
      "source": [
        "CBAnewINgpd.shape\n",
        "CBAnewINgpd.head(1)\n"
      ]
    },
    {
      "cell_type": "code",
      "execution_count": 65,
      "metadata": {},
      "outputs": [
        {
          "data": {
            "text/plain": [
              "0    02-001-1\n",
              "Name: centroide, dtype: object"
            ]
          },
          "execution_count": 65,
          "metadata": {},
          "output_type": "execute_result"
        }
      ],
      "source": [
        "CBAnewINgpd['centroide'] = CBAnewINgpd['nom_ctdre']\n",
        "CBAnewINgpd['centroide'].head(1)"
      ]
    },
    {
      "cell_type": "code",
      "execution_count": 66,
      "metadata": {},
      "outputs": [],
      "source": [
        "CBAnewINgpd_out = CBAnewINgpd.merge(df1, on='centroide')"
      ]
    },
    {
      "cell_type": "code",
      "execution_count": 67,
      "metadata": {},
      "outputs": [
        {
          "data": {
            "text/html": [
              "<div>\n",
              "<style scoped>\n",
              "    .dataframe tbody tr th:only-of-type {\n",
              "        vertical-align: middle;\n",
              "    }\n",
              "\n",
              "    .dataframe tbody tr th {\n",
              "        vertical-align: top;\n",
              "    }\n",
              "\n",
              "    .dataframe thead th {\n",
              "        text-align: right;\n",
              "    }\n",
              "</style>\n",
              "<table border=\"1\" class=\"dataframe\">\n",
              "  <thead>\n",
              "    <tr style=\"text-align: right;\">\n",
              "      <th></th>\n",
              "      <th>OBJECTID</th>\n",
              "      <th>NOM_SB</th>\n",
              "      <th>nom_ctdre</th>\n",
              "      <th>Shape_Leng</th>\n",
              "      <th>Shape_Area</th>\n",
              "      <th>X</th>\n",
              "      <th>Y</th>\n",
              "      <th>geometry</th>\n",
              "      <th>centroide</th>\n",
              "      <th>TC</th>\n",
              "      <th>G1</th>\n",
              "      <th>G2</th>\n",
              "      <th>A1</th>\n",
              "      <th>A2</th>\n",
              "      <th>TL</th>\n",
              "      <th>P</th>\n",
              "      <th>S1</th>\n",
              "      <th>S2</th>\n",
              "      <th>M1</th>\n",
              "      <th>M2</th>\n",
              "    </tr>\n",
              "  </thead>\n",
              "  <tbody>\n",
              "    <tr>\n",
              "      <th>0</th>\n",
              "      <td>1</td>\n",
              "      <td>AARÓN CASTELLANOS</td>\n",
              "      <td>02-001-1</td>\n",
              "      <td>2.589841</td>\n",
              "      <td>0.005487</td>\n",
              "      <td>5274828.81</td>\n",
              "      <td>6268708.49</td>\n",
              "      <td>MULTIPOLYGON (((-62.46551 -33.80869, -62.46575...</td>\n",
              "      <td>02-001-1</td>\n",
              "      <td>-1000.0</td>\n",
              "      <td>-1000.0</td>\n",
              "      <td>-1000.0</td>\n",
              "      <td>-1000.0</td>\n",
              "      <td>-1000.0</td>\n",
              "      <td>-1000.0</td>\n",
              "      <td>90.0</td>\n",
              "      <td>-1000.0</td>\n",
              "      <td>-1000.0</td>\n",
              "      <td>-1000.0</td>\n",
              "      <td>-1000.0</td>\n",
              "    </tr>\n",
              "  </tbody>\n",
              "</table>\n",
              "</div>"
            ],
            "text/plain": [
              "   OBJECTID             NOM_SB nom_ctdre  Shape_Leng  Shape_Area           X  \\\n",
              "0         1  AARÓN CASTELLANOS  02-001-1    2.589841    0.005487  5274828.81   \n",
              "\n",
              "            Y                                           geometry centroide  \\\n",
              "0  6268708.49  MULTIPOLYGON (((-62.46551 -33.80869, -62.46575...  02-001-1   \n",
              "\n",
              "       TC      G1      G2      A1      A2      TL     P      S1      S2  \\\n",
              "0 -1000.0 -1000.0 -1000.0 -1000.0 -1000.0 -1000.0  90.0 -1000.0 -1000.0   \n",
              "\n",
              "       M1      M2  \n",
              "0 -1000.0 -1000.0  "
            ]
          },
          "execution_count": 67,
          "metadata": {},
          "output_type": "execute_result"
        }
      ],
      "source": [
        "CBAnewINgpd_out.head(1)"
      ]
    },
    {
      "cell_type": "markdown",
      "metadata": {},
      "source": [
        "### CORRIENTES"
      ]
    },
    {
      "cell_type": "code",
      "execution_count": 68,
      "metadata": {},
      "outputs": [
        {
          "data": {
            "text/plain": [
              "(148, 6)"
            ]
          },
          "execution_count": 68,
          "metadata": {},
          "output_type": "execute_result"
        }
      ],
      "source": [
        "CORRIENTESINshp = os.path.join(data_folder, '50-CORRIENTES-IN.shp')  \n",
        "CORRIENTESINgpd = gpd.read_file(CORRIENTESINshp)\n",
        "CORRIENTESINgpd.shape"
      ]
    },
    {
      "cell_type": "code",
      "execution_count": 69,
      "metadata": {},
      "outputs": [
        {
          "data": {
            "text/html": [
              "<div>\n",
              "<style scoped>\n",
              "    .dataframe tbody tr th:only-of-type {\n",
              "        vertical-align: middle;\n",
              "    }\n",
              "\n",
              "    .dataframe tbody tr th {\n",
              "        vertical-align: top;\n",
              "    }\n",
              "\n",
              "    .dataframe thead th {\n",
              "        text-align: right;\n",
              "    }\n",
              "</style>\n",
              "<table border=\"1\" class=\"dataframe\">\n",
              "  <thead>\n",
              "    <tr style=\"text-align: right;\">\n",
              "      <th></th>\n",
              "      <th>CTRDE</th>\n",
              "      <th>Lat</th>\n",
              "      <th>Long</th>\n",
              "      <th>Y</th>\n",
              "      <th>X</th>\n",
              "      <th>geometry</th>\n",
              "      <th>centroide</th>\n",
              "      <th>TC</th>\n",
              "      <th>G1</th>\n",
              "      <th>G2</th>\n",
              "      <th>A1</th>\n",
              "      <th>A2</th>\n",
              "      <th>TL</th>\n",
              "      <th>P</th>\n",
              "      <th>S1</th>\n",
              "      <th>S2</th>\n",
              "      <th>M1</th>\n",
              "      <th>M2</th>\n",
              "    </tr>\n",
              "  </thead>\n",
              "  <tbody>\n",
              "    <tr>\n",
              "      <th>0</th>\n",
              "      <td>06ABEL</td>\n",
              "      <td>-27.48</td>\n",
              "      <td>-56.63</td>\n",
              "      <td>6961568.73</td>\n",
              "      <td>6536927.901</td>\n",
              "      <td>MULTIPOLYGON (((-56.62767 -27.51177, -56.62827...</td>\n",
              "      <td>06ABEL</td>\n",
              "      <td>-1000.0</td>\n",
              "      <td>-1000.0</td>\n",
              "      <td>-1000.0</td>\n",
              "      <td>-1000.0</td>\n",
              "      <td>-1000.0</td>\n",
              "      <td>-1000.0</td>\n",
              "      <td>27.0</td>\n",
              "      <td>-1000.0</td>\n",
              "      <td>-1000.0</td>\n",
              "      <td>-1000.0</td>\n",
              "      <td>-1000.0</td>\n",
              "    </tr>\n",
              "  </tbody>\n",
              "</table>\n",
              "</div>"
            ],
            "text/plain": [
              "    CTRDE    Lat   Long           Y            X  \\\n",
              "0  06ABEL -27.48 -56.63  6961568.73  6536927.901   \n",
              "\n",
              "                                            geometry centroide      TC  \\\n",
              "0  MULTIPOLYGON (((-56.62767 -27.51177, -56.62827...    06ABEL -1000.0   \n",
              "\n",
              "       G1      G2      A1      A2      TL     P      S1      S2      M1  \\\n",
              "0 -1000.0 -1000.0 -1000.0 -1000.0 -1000.0  27.0 -1000.0 -1000.0 -1000.0   \n",
              "\n",
              "       M2  \n",
              "0 -1000.0  "
            ]
          },
          "execution_count": 69,
          "metadata": {},
          "output_type": "execute_result"
        }
      ],
      "source": [
        "CORRIENTESINgpd['centroide'] = CORRIENTESINgpd['CTRDE']\n",
        "\n",
        "CORRIENTESINgpd_out = CORRIENTESINgpd.merge(df1, on='centroide')\n",
        "CORRIENTESINgpd_out.head(1)"
      ]
    },
    {
      "cell_type": "markdown",
      "metadata": {},
      "source": [
        "### CUENCA del SALADO"
      ]
    },
    {
      "cell_type": "code",
      "execution_count": 70,
      "metadata": {},
      "outputs": [
        {
          "data": {
            "text/plain": [
              "(191, 2)"
            ]
          },
          "execution_count": 70,
          "metadata": {},
          "output_type": "execute_result"
        }
      ],
      "source": [
        "\n",
        "CuencaSaladoInshp = os.path.join(data_folder, 'P-CN_CuencaSalado.shp')  \n",
        "CuencaSaladoIngpd = gpd.read_file(CuencaSaladoInshp)\n",
        "CuencaSaladoIngpd.shape"
      ]
    },
    {
      "cell_type": "code",
      "execution_count": 71,
      "metadata": {},
      "outputs": [
        {
          "data": {
            "text/html": [
              "<div>\n",
              "<style scoped>\n",
              "    .dataframe tbody tr th:only-of-type {\n",
              "        vertical-align: middle;\n",
              "    }\n",
              "\n",
              "    .dataframe tbody tr th {\n",
              "        vertical-align: top;\n",
              "    }\n",
              "\n",
              "    .dataframe thead th {\n",
              "        text-align: right;\n",
              "    }\n",
              "</style>\n",
              "<table border=\"1\" class=\"dataframe\">\n",
              "  <thead>\n",
              "    <tr style=\"text-align: right;\">\n",
              "      <th></th>\n",
              "      <th>Centroide</th>\n",
              "      <th>geometry</th>\n",
              "    </tr>\n",
              "  </thead>\n",
              "  <tbody>\n",
              "    <tr>\n",
              "      <th>0</th>\n",
              "      <td>AP_1</td>\n",
              "      <td>MULTIPOLYGON (((5694881.728 5815589.608, 56948...</td>\n",
              "    </tr>\n",
              "  </tbody>\n",
              "</table>\n",
              "</div>"
            ],
            "text/plain": [
              "  Centroide                                           geometry\n",
              "0      AP_1  MULTIPOLYGON (((5694881.728 5815589.608, 56948..."
            ]
          },
          "execution_count": 71,
          "metadata": {},
          "output_type": "execute_result"
        }
      ],
      "source": [
        "CuencaSaladoIngpd.head(1)"
      ]
    },
    {
      "cell_type": "code",
      "execution_count": 72,
      "metadata": {},
      "outputs": [
        {
          "data": {
            "text/html": [
              "<div>\n",
              "<style scoped>\n",
              "    .dataframe tbody tr th:only-of-type {\n",
              "        vertical-align: middle;\n",
              "    }\n",
              "\n",
              "    .dataframe tbody tr th {\n",
              "        vertical-align: top;\n",
              "    }\n",
              "\n",
              "    .dataframe thead th {\n",
              "        text-align: right;\n",
              "    }\n",
              "</style>\n",
              "<table border=\"1\" class=\"dataframe\">\n",
              "  <thead>\n",
              "    <tr style=\"text-align: right;\">\n",
              "      <th></th>\n",
              "      <th>geometry</th>\n",
              "      <th>centroide</th>\n",
              "      <th>TC</th>\n",
              "      <th>G1</th>\n",
              "      <th>G2</th>\n",
              "      <th>A1</th>\n",
              "      <th>A2</th>\n",
              "      <th>TL</th>\n",
              "      <th>P</th>\n",
              "      <th>S1</th>\n",
              "      <th>S2</th>\n",
              "      <th>M1</th>\n",
              "      <th>M2</th>\n",
              "    </tr>\n",
              "  </thead>\n",
              "  <tbody>\n",
              "    <tr>\n",
              "      <th>0</th>\n",
              "      <td>MULTIPOLYGON (((5694881.728 5815589.608, 56948...</td>\n",
              "      <td>AP_1</td>\n",
              "      <td>-1000.0</td>\n",
              "      <td>-1000.0</td>\n",
              "      <td>-1000.0</td>\n",
              "      <td>-1000.0</td>\n",
              "      <td>-1000.0</td>\n",
              "      <td>-1000.0</td>\n",
              "      <td>143.0</td>\n",
              "      <td>-1000.0</td>\n",
              "      <td>-1000.0</td>\n",
              "      <td>-1000.0</td>\n",
              "      <td>-1000.0</td>\n",
              "    </tr>\n",
              "  </tbody>\n",
              "</table>\n",
              "</div>"
            ],
            "text/plain": [
              "                                            geometry centroide      TC  \\\n",
              "0  MULTIPOLYGON (((5694881.728 5815589.608, 56948...      AP_1 -1000.0   \n",
              "\n",
              "       G1      G2      A1      A2      TL      P      S1      S2      M1  \\\n",
              "0 -1000.0 -1000.0 -1000.0 -1000.0 -1000.0  143.0 -1000.0 -1000.0 -1000.0   \n",
              "\n",
              "       M2  \n",
              "0 -1000.0  "
            ]
          },
          "execution_count": 72,
          "metadata": {},
          "output_type": "execute_result"
        }
      ],
      "source": [
        "CuencaSaladoIngpd['centroide'] = CuencaSaladoIngpd['Centroide']\n",
        "\n",
        "CuencaSaladoIngpd.drop('Centroide',\n",
        "  axis='columns', inplace=True)\n",
        "CuencaSaladoIngpd_out = CuencaSaladoIngpd.merge(df1, on='centroide')\n",
        "CuencaSaladoIngpd_out.head(1)"
      ]
    },
    {
      "cell_type": "markdown",
      "metadata": {},
      "source": [
        "### RESERVAS 500"
      ]
    },
    {
      "cell_type": "code",
      "execution_count": 73,
      "metadata": {},
      "outputs": [
        {
          "data": {
            "text/plain": [
              "(1317, 2)"
            ]
          },
          "execution_count": 73,
          "metadata": {},
          "output_type": "execute_result"
        }
      ],
      "source": [
        "\n",
        "\n",
        "R500_201709shp = os.path.join(data_folder, '500_201709.shp')  \n",
        "R500_201709shpIngpd = gpd.read_file(R500_201709shp)\n",
        "R500_201709shpIngpd.shape"
      ]
    },
    {
      "cell_type": "code",
      "execution_count": 74,
      "metadata": {},
      "outputs": [
        {
          "data": {
            "text/html": [
              "<div>\n",
              "<style scoped>\n",
              "    .dataframe tbody tr th:only-of-type {\n",
              "        vertical-align: middle;\n",
              "    }\n",
              "\n",
              "    .dataframe tbody tr th {\n",
              "        vertical-align: top;\n",
              "    }\n",
              "\n",
              "    .dataframe thead th {\n",
              "        text-align: right;\n",
              "    }\n",
              "</style>\n",
              "<table border=\"1\" class=\"dataframe\">\n",
              "  <thead>\n",
              "    <tr style=\"text-align: right;\">\n",
              "      <th></th>\n",
              "      <th>Ctrde_ID</th>\n",
              "      <th>geometry</th>\n",
              "    </tr>\n",
              "  </thead>\n",
              "  <tbody>\n",
              "    <tr>\n",
              "      <th>0</th>\n",
              "      <td>A100-30_20</td>\n",
              "      <td>MULTIPOLYGON (((-57.6096 -28.13447, -57.61006 ...</td>\n",
              "    </tr>\n",
              "  </tbody>\n",
              "</table>\n",
              "</div>"
            ],
            "text/plain": [
              "     Ctrde_ID                                           geometry\n",
              "0  A100-30_20  MULTIPOLYGON (((-57.6096 -28.13447, -57.61006 ..."
            ]
          },
          "execution_count": 74,
          "metadata": {},
          "output_type": "execute_result"
        }
      ],
      "source": [
        "R500_201709shpIngpd.head(1)"
      ]
    },
    {
      "cell_type": "code",
      "execution_count": 75,
      "metadata": {},
      "outputs": [
        {
          "data": {
            "text/html": [
              "<div>\n",
              "<style scoped>\n",
              "    .dataframe tbody tr th:only-of-type {\n",
              "        vertical-align: middle;\n",
              "    }\n",
              "\n",
              "    .dataframe tbody tr th {\n",
              "        vertical-align: top;\n",
              "    }\n",
              "\n",
              "    .dataframe thead th {\n",
              "        text-align: right;\n",
              "    }\n",
              "</style>\n",
              "<table border=\"1\" class=\"dataframe\">\n",
              "  <thead>\n",
              "    <tr style=\"text-align: right;\">\n",
              "      <th></th>\n",
              "      <th>Ctrde_ID</th>\n",
              "      <th>geometry</th>\n",
              "      <th>centroide</th>\n",
              "      <th>TC</th>\n",
              "      <th>G1</th>\n",
              "      <th>G2</th>\n",
              "      <th>A1</th>\n",
              "      <th>A2</th>\n",
              "      <th>TL</th>\n",
              "      <th>P</th>\n",
              "      <th>S1</th>\n",
              "      <th>S2</th>\n",
              "      <th>M1</th>\n",
              "      <th>M2</th>\n",
              "    </tr>\n",
              "  </thead>\n",
              "  <tbody>\n",
              "    <tr>\n",
              "      <th>0</th>\n",
              "      <td>A100-30_20</td>\n",
              "      <td>MULTIPOLYGON (((-57.6096 -28.13447, -57.61006 ...</td>\n",
              "      <td>A100-30_20</td>\n",
              "      <td>-1000.0</td>\n",
              "      <td>-1000.0</td>\n",
              "      <td>-1000.0</td>\n",
              "      <td>-1000.0</td>\n",
              "      <td>-1000.0</td>\n",
              "      <td>-1000.0</td>\n",
              "      <td>12.0</td>\n",
              "      <td>-1.0</td>\n",
              "      <td>-1000.0</td>\n",
              "      <td>30.0</td>\n",
              "      <td>-6.0</td>\n",
              "    </tr>\n",
              "  </tbody>\n",
              "</table>\n",
              "</div>"
            ],
            "text/plain": [
              "     Ctrde_ID                                           geometry   centroide  \\\n",
              "0  A100-30_20  MULTIPOLYGON (((-57.6096 -28.13447, -57.61006 ...  A100-30_20   \n",
              "\n",
              "       TC      G1      G2      A1      A2      TL     P   S1      S2    M1  \\\n",
              "0 -1000.0 -1000.0 -1000.0 -1000.0 -1000.0 -1000.0  12.0 -1.0 -1000.0  30.0   \n",
              "\n",
              "    M2  \n",
              "0 -6.0  "
            ]
          },
          "execution_count": 75,
          "metadata": {},
          "output_type": "execute_result"
        }
      ],
      "source": [
        "R500_201709shpIngpd['centroide'] = R500_201709shpIngpd['Ctrde_ID']\n",
        "#CBAnewINgpd['centroide'].head()\n",
        "R500_201709shpIngpd_out = R500_201709shpIngpd.merge(df1, on='centroide')\n",
        "R500_201709shpIngpd_out.head(1)"
      ]
    },
    {
      "cell_type": "markdown",
      "metadata": {},
      "source": [
        "### GRABANDO SHP"
      ]
    },
    {
      "cell_type": "code",
      "execution_count": 76,
      "metadata": {},
      "outputs": [],
      "source": [
        "output_file = 'RESERVAS.shp'\n",
        "output_path = os.path.join(output_folder, output_file)\n",
        "reservasoutgpd.to_file(output_path , mode=\"a\")"
      ]
    },
    {
      "cell_type": "code",
      "execution_count": 77,
      "metadata": {},
      "outputs": [],
      "source": [
        "output_file = 'RESERVAS_500.shp'\n",
        "output_path = os.path.join(output_folder, output_file)\n",
        "R500_201709shpIngpd_out.to_file(output_path , mode=\"a\")"
      ]
    },
    {
      "cell_type": "code",
      "execution_count": 78,
      "metadata": {},
      "outputs": [],
      "source": [
        "\n",
        "output_file = '50-CBAnew-OUT.shp'\n",
        "output_path = os.path.join(output_folder, output_file)\n",
        "CBAnewINgpd_out.to_file(output_path , mode=\"a\")"
      ]
    },
    {
      "cell_type": "code",
      "execution_count": 79,
      "metadata": {},
      "outputs": [],
      "source": [
        "\n",
        "output_file = 'P_CN_Cuenca_Salado.shp'\n",
        "output_path = os.path.join(output_folder, output_file)\n",
        "CuencaSaladoIngpd_out.to_file(output_path , mode=\"a\")"
      ]
    },
    {
      "cell_type": "code",
      "execution_count": 80,
      "metadata": {},
      "outputs": [],
      "source": [
        "output_file = '50-CORRIENTES-OUT.shp'\n",
        "output_path = os.path.join(output_folder, output_file)\n",
        "CORRIENTESINgpd_out.to_file(output_path , mode=\"a\")"
      ]
    }
  ],
  "metadata": {
    "colab": {
      "collapsed_sections": [],
      "name": "Primera regresión lineal.ipynb",
      "provenance": []
    },
    "kernelspec": {
      "display_name": "Python Ora\\BALANCES_GUS_PY  (env)",
      "language": "python",
      "name": "env"
    },
    "language_info": {
      "codemirror_mode": {
        "name": "ipython",
        "version": 3
      },
      "file_extension": ".py",
      "mimetype": "text/x-python",
      "name": "python",
      "nbconvert_exporter": "python",
      "pygments_lexer": "ipython3",
      "version": "3.12.2"
    }
  },
  "nbformat": 4,
  "nbformat_minor": 0
}
